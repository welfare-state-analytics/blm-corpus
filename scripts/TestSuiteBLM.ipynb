{
 "cells": [
  {
   "cell_type": "code",
   "execution_count": 19,
   "metadata": {},
   "outputs": [
    {
     "name": "stdout",
     "output_type": "stream",
     "text": [
      "The ID's of all files exist in the metadata.csv!\n"
     ]
    }
   ],
   "source": [
    "import pathlib\n",
    "import pandas as pd\n",
    "\n",
    "def unittest_metadata():\n",
    "    pathfiles = pathlib.Path(\"../corpus/editions\")\n",
    "    pathcsv = pathlib.Path(\"../corpus/metadata/metadata.csv\")\n",
    "    blm_paths = [x for x in pathfiles.iterdir()]\n",
    "    success=True\n",
    "    df = pd.read_csv(pathcsv, index_col=False)\n",
    "    meta_data_ids=df['ID'].values\n",
    "    for id in blm_paths:\n",
    "        if id.name in meta_data_ids:\n",
    "            pass\n",
    "        else:\n",
    "            print(f\"The file with ID {id.name} does not exist in the metadata.csv\")\n",
    "            success=False\n",
    "            break\n",
    "    if success:\n",
    "        print(\"The ID's of all files exist in the metadata.csv!\")\n",
    "\n",
    "if __name__ == \"__main__\":\n",
    "    unittest_metadata()"
   ]
  },
  {
   "cell_type": "code",
   "execution_count": 20,
   "metadata": {},
   "outputs": [
    {
     "name": "stderr",
     "output_type": "stream",
     "text": [
      "/home/emillanzen/.local/lib/python3.8/site-packages/ebooklib/epub.py:1395: UserWarning: In the future version we will turn default option ignore_ncx to True.\n",
      "  warnings.warn('In the future version we will turn default option ignore_ncx to True.')\n"
     ]
    },
    {
     "name": "stdout",
     "output_type": "stream",
     "text": [
      "All files passed!\n"
     ]
    }
   ],
   "source": [
    "import shutil\n",
    "from ebooklib import epub\n",
    "\n",
    "def unittest_epub():\n",
    "    path = pathlib.Path(\"../corpus/editions\")\n",
    "    blms = [x for x in path.iterdir()]\n",
    "    for x in blms:\n",
    "        epub_name = x.name.replace(\"blm\", \"epub\")\n",
    "        epub_path = pathlib.Path(\"unittest_epub\") / epub_name\n",
    "        success = True\n",
    "        if not epub_path.parent.exists():\n",
    "            epub_path.parent.mkdir()\n",
    "        try:\n",
    "            shutil.make_archive(str(epub_path), 'zip', str(x))\n",
    "            epub_zip_path = pathlib.Path(str(epub_path) + \".zip\")\n",
    "            epub_zip_path.rename(epub_path)\n",
    "            epub.read_epub(epub_path)\n",
    "            epub_path.unlink()\n",
    "        except:\n",
    "            print(f\"An error has occurred with ID {x.name}\")\n",
    "            success = False\n",
    "            break\n",
    "    if success:\n",
    "        print(\"All files passed!\")\n",
    "\n",
    "if __name__ == \"__main__\":\n",
    "    unittest_epub()"
   ]
  }
 ],
 "metadata": {
  "kernelspec": {
   "display_name": "Python 3",
   "language": "python",
   "name": "python3"
  },
  "language_info": {
   "codemirror_mode": {
    "name": "ipython",
    "version": 3
   },
   "file_extension": ".py",
   "mimetype": "text/x-python",
   "name": "python",
   "nbconvert_exporter": "python",
   "pygments_lexer": "ipython3",
   "version": "3.8.10"
  },
  "orig_nbformat": 4,
  "vscode": {
   "interpreter": {
    "hash": "916dbcbb3f70747c44a77c7bcd40155683ae19c65e1c03b4aa3499c5328201f1"
   }
  }
 },
 "nbformat": 4,
 "nbformat_minor": 2
}
